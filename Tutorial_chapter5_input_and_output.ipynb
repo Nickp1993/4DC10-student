{
 "cells": [
  {
   "cell_type": "markdown",
   "id": "a8bdd04e",
   "metadata": {},
   "source": [
    "**To use the examples in this chapter, first run the code below to import the right libraries.**\n",
    "\n",
    "We use the numpy library show some examples. However, you do not need to learn how to use this library (except the `random` module, but more on that in next chapter)."
   ]
  },
  {
   "cell_type": "code",
   "execution_count": null,
   "id": "214f2950",
   "metadata": {},
   "outputs": [],
   "source": [
    "# =================================\n",
    "# Imports\n",
    "# =================================\n",
    "from numpy import random\n",
    "from dataclasses import dataclass\n",
    "import math\n",
    "import numpy as np\n",
    "import matplotlib.pyplot as plt"
   ]
  },
  {
   "cell_type": "markdown",
   "id": "0a1b7c39",
   "metadata": {},
   "source": [
    "# 5 Input and output\n",
    "\n",
    "This chapter describes how data can be read from a file as input for a model, and how the output of a model can be printed to the screen, written to a file, or plotted in a graph."
   ]
  },
  {
   "cell_type": "markdown",
   "id": "1f08a9a7",
   "metadata": {},
   "source": [
    "## 5.1 Print"
   ]
  },
  {
   "cell_type": "markdown",
   "id": "ccbd788f",
   "metadata": {},
   "source": [
    "The `print` statement is used for output of data to the screen of the computer. A simple example is shown below."
   ]
  },
  {
   "cell_type": "code",
   "execution_count": null,
   "id": "1665382c",
   "metadata": {
    "pycharm": {
     "name": "#%%\n"
    }
   },
   "outputs": [],
   "source": [
    "x = 5\n",
    "print(\"x =\", x)"
   ]
  },
  {
   "cell_type": "markdown",
   "id": "8668c819",
   "metadata": {},
   "source": [
    "The above example is very useful for the most simple use cases; we've used similar print statements throughout the previous chapters. However, it is not very versatile. For example, try changing `x = 5` to `x= 5/3`. The result is that `x` is printed with many decimals.\n",
    "\n",
    "In the next example we will use an f-string, which allows us to insert variables into strings (there are more ways for doing so in Python, for more information on f-string and other options [click here](https://realpython.com/python-f-strings/#f-strings-a-new-and-improved-way-to-format-strings-in-python)). An f-string by placing a `f` in front of the string, two examples are shown below."
   ]
  },
  {
   "cell_type": "code",
   "execution_count": null,
   "id": "7b9fa7e7",
   "metadata": {},
   "outputs": [],
   "source": [
    "i = 5/3\n",
    "\n",
    "print(\"i =\", i) # the basic method\n",
    "\n",
    "print(f\"i = {i}\") # Using f-strings to insert variable i into the string \n",
    "\n",
    "print(f\"i = {i:.2f}\") # Using f-strings to insert variable i into the string (with 2 decimal numbers)"
   ]
  },
  {
   "cell_type": "markdown",
   "id": "1cc0b338",
   "metadata": {},
   "source": [
    "The above example shows multiple ways to print `i = 5/3` to the screen. Let us take the last example: `f\"i = {i:.2f}\"`. The `f` before the string indicates that the string is formatted as an f-string. The curly brackets indicate that we want to insert a variable, and the formatting we want to use in the form of `{variable:format}` (or `{variable}` if we do not wish to specify the format). In this case the variable is `i` and format is `.2f` (which denotes *fixed-point number format* with 2 decimal numbers).  There are many different format types, such as `d` (for integer numbers), `f` (for floats), and `g` (for any number). \n",
    "\n",
    "Another example: "
   ]
  },
  {
   "cell_type": "code",
   "execution_count": null,
   "id": "b198046f",
   "metadata": {},
   "outputs": [],
   "source": [
    "i = 5\n",
    "r = 3.14\n",
    "print(f\"{i:4d}/{r:8.2f}\")"
   ]
  },
  {
   "cell_type": "markdown",
   "id": "f177a669",
   "metadata": {},
   "source": [
    "This fragment has the effect that the values of `i` and `r` are written to the screen as follows:\n",
    "\n",
    "       5/    3.14\n",
    "          \n",
    "The value of `i` is written in `d` format, as int value, and the value of `r` is written in `f` format, as floating value. The symbols `d` and `f` originate respectively from \"decimal\", and \"floating point\" numbers. The numbers 4 respectively 8.2 denote that the integer value is written 4 positions wide (that is, 3 spaces and a \"`5`\" character), and that the floating value is written 8 positions wide, with 2 characters after the decimal point (that is, 4 spaces and the text \"`3.14`\"). A list of format specifiers is given in the table below:\n",
    "\n",
    "| Format specifier | Result                                                                                             |\n",
    "|------------------|----------------------------------------------------------------------------------------------------|\n",
    "| `:b`             | Binary format                                                                                      |\n",
    "| `:d`             | Decimal format                                                                                     |\n",
    "| `:10d`           | Decimal format (at least 10 positions wide)                                                        |\n",
    "| `:e`             | Scientific format                                                                                  |\n",
    "| `:f`             | Fix point number format                                                                            |\n",
    "| `:9f`            | Fix point number format (at least 9 positions wide)                                                |\n",
    "| `:.4f`           | Fix point number format (with 4 characters after the decimal point)                                |\n",
    "| `:9.4f`          | Fix point number format (at least 9 positions wide, and with 4 characters after the decimal point) |\n",
    "| `:g`             | General format                                                                                     |\n",
    "| `:n`             | Number format                                                                                      |\n",
    "| `:%`             | Percentage format  \n"
   ]
  },
  {
   "cell_type": "markdown",
   "id": "1a7c0de9",
   "metadata": {},
   "source": [
    "Finally, there are also a few special character sequences called *escape sequence* which allow to print characters like horizontal tab (which means jump to next tab position in the output\"), or newline (which means \"go to the next line in the output\") in a format string. An escape sequence consists of two characters. First a backslash character `\\`, followed by a second character. The escape sequence are presented below:\n",
    "\n",
    "| Escape sequence | Meaning           |\n",
    "|-----------------|-------------------|\n",
    "| `\\n`            | New line          |\n",
    "| `\\t`            | Horizontal tab    |\n",
    "| `\\\"`            | The character `\"` |\n",
    "| `\\\\`            | The character `\\` |\n",
    "\n",
    "An example is shown below. The value of `j` is written at the tab position, the output goes to the next line again at the first tab position, and outputs the value of `r`."
   ]
  },
  {
   "cell_type": "code",
   "execution_count": null,
   "id": "9768bfb6",
   "metadata": {},
   "outputs": [],
   "source": [
    "i = 5\n",
    "j = 10\n",
    "r = 3.14\n",
    "print(f\"{i:6d}\\t{j:d}\\n\\t{r:.2f}\\n\")"
   ]
  },
  {
   "cell_type": "markdown",
   "id": "cb26e6c1",
   "metadata": {},
   "source": [
    "## 5.2 Read and write files"
   ]
  },
  {
   "cell_type": "markdown",
   "id": "aec73f90",
   "metadata": {},
   "source": [
    "Within Python, it is possible to read and write files. To do this, firstly the *open* function is used. An example to write to a file is shown below:"
   ]
  },
  {
   "cell_type": "code",
   "execution_count": null,
   "id": "ecc9f27a",
   "metadata": {},
   "outputs": [],
   "source": [
    "f = open(\"example.txt\",\"w\")\n",
    "\n",
    "f.write(\"This is an example on how create and write data into a .txt file \\nA new line can be created as well\\n\")\n",
    "f.write(\"We can continue writing by calling the write function\\n\")\n",
    "\n",
    "f.close()"
   ]
  },
  {
   "cell_type": "markdown",
   "id": "0c46c233",
   "metadata": {},
   "source": [
    "In the above example, the `open` function is used to open/create a file called `\"example.txt\"`. The character `w` is used to indicate that the file should be overwritten, or newly created. The function `.write` is used to write new data into the opened file, defined by a string. Finally, the file can be closed with `.close()`.\n",
    "\n",
    "Instead of overwriting a file, new data can also be appended to a file. In order to use the append mode, the character `a` should be used. Now, new data can be appended to the `example.txt` file, again using the `.write` function."
   ]
  },
  {
   "cell_type": "code",
   "execution_count": null,
   "id": "a6036854",
   "metadata": {},
   "outputs": [],
   "source": [
    "f = open(\"example.txt\",\"a\")\n",
    "\n",
    "f.write(\"This line will be appended to the file\")\n",
    "\n",
    "f.close()"
   ]
  },
  {
   "cell_type": "markdown",
   "id": "9ff09c2d",
   "metadata": {},
   "source": [
    "Finally, a file can also be read, using the `.read` function:"
   ]
  },
  {
   "cell_type": "code",
   "execution_count": null,
   "id": "56e875e5",
   "metadata": {},
   "outputs": [],
   "source": [
    "f = open(\"example.txt\",\"r\")\n",
    "\n",
    "if f.mode == \"r\":\n",
    "    contents = f.read()\n",
    "    print(contents)\n",
    "    \n",
    "f.close()"
   ]
  },
  {
   "cell_type": "markdown",
   "id": "19866626",
   "metadata": {},
   "source": [
    "In order to read the file, the character `r` should be used in the `open` function. Now, the function `.read()` can be used to read the contents of the file. For this, the file should be opened in read-mode, which is checked by `if f.mode==\"r\"`.\n",
    "\n",
    "A more elaborate explanation on reading and writing files can be found [here](https://www.guru99.com/reading-and-writing-files-in-python.html), however, this will not be used in the scope of this course."
   ]
  },
  {
   "cell_type": "markdown",
   "id": "ad6442f2",
   "metadata": {},
   "source": [
    "## 5.3 Plotting"
   ]
  },
  {
   "cell_type": "markdown",
   "id": "8690c611",
   "metadata": {},
   "source": [
    "A nice way to get an overview of your data is to plot this. In the next paragraphs, different kind of plots in Python will be shortly elaborated, a more elaborate guide on how to plot can be found [here](https://realpython.com/python-matplotlib-guide/).\n",
    "\n",
    "The `matplotlib.pyplot` library is used to get these plots. This library can be imported by entering `import matplotlib.pyplot as plt`. All plotting options from the `matplotlib.pyplot` library can be found [here](https://matplotlib.org/stable/api/_as_gen/matplotlib.pyplot.html). In this section, we will go into more depth on the line, step, bar, and histogram plot types (which are only a few of the plot types in the `matplotlib.pyplot` library), and how the style of the plot can be changed (titles, axis labels, etc.). A large gallery containing pretty much every example you would ever need can be found [here](https://matplotlib.org/stable/gallery/index.html).\n",
    "\n",
    "Below we show the most simple method of creating a simple line plot. We first create some data (using the `numpy` library), and then we plot it by first creating a figure using `plt.figure()`, then we draw a plot with two lines using `plt.plot(x, y1, x, y2)`.\n"
   ]
  },
  {
   "cell_type": "markdown",
   "id": "25392f33-cc29-4aa3-971c-33119d06895c",
   "metadata": {},
   "source": [
    "**Note** Depending on what is installed on your machine, you might get the error `Javascript Error: IPython is not defined`. In this case, add `%matplotlib inline` before any `matplotlib` functionality is used. "
   ]
  },
  {
   "cell_type": "code",
   "execution_count": null,
   "id": "d46340b0",
   "metadata": {},
   "outputs": [],
   "source": [
    "x = np.arange(0, 5, 0.2)\n",
    "y1 = np.sin(x)\n",
    "y2 = np.cos(x)\n",
    "\n",
    "fig = plt.figure()\n",
    "line = plt.plot(x, y1, x, y2)"
   ]
  },
  {
   "cell_type": "markdown",
   "id": "99c0ddcd",
   "metadata": {},
   "source": [
    "### 5.3.1 Line plot"
   ]
  },
  {
   "cell_type": "markdown",
   "id": "0dace8c1",
   "metadata": {},
   "source": [
    "The function `plt.plot` can be used to create a simple *line plot*. An example:"
   ]
  },
  {
   "cell_type": "code",
   "execution_count": null,
   "id": "ffc7bd44",
   "metadata": {},
   "outputs": [],
   "source": [
    "x = np.arange(0, 5, 0.2)\n",
    "y1 = np.sin(x)\n",
    "y2 = np.cos(x)\n",
    "\n",
    "fig, ax1 = plt.subplots()\n",
    "plt.plot(x, y1, label='sin(x)')\n",
    "plt.plot(x, y2, color='green', marker='o', linestyle='dashed',\n",
    "                linewidth=2, markersize=5, label='cos(x)')\n",
    "plt.xlabel(\"X-axis, e.g. Time [s]\")\n",
    "plt.ylabel(\"Y-axis, e.g. Distance [m]\")\n",
    "plt.title(\"Title for your plot\")\n",
    "plt.grid()\n",
    "plt.legend(title='Parameter where:');"
   ]
  },
  {
   "cell_type": "markdown",
   "id": "985745b5",
   "metadata": {},
   "source": [
    "`plt.plot(x,y)` will just create a simple line. As shown above, the line can be adjusted by adding several inputs to `plt.plot`, for example:\n",
    "- `color`, which changes the color of the line\n",
    "- `marker`, which determines the shape of the markers used at every datapoint\n",
    "- `linestyle`, which determines the linestyle, in this case (e.g. dashed)\n",
    "- `linewidth`, which determines the linewidth\n",
    "- `markersize`, which changes the size of the marker at every datapoint\n",
    "- `label`, which is used to generate a legend for the plot\n",
    "\n",
    "To create a new figure as output of a section, `fig, ax1 = plt.subplots()` can be used.\n",
    "\n",
    "Furthermore, labels can be added to the axes of the graph, as well as a title and a legend. This can be done by the functions `plt.xlabel()` for the label on the x-axis, `plt.ylabel()` for the label on the y-axis, and `plt.title()` for the title of the plot. If labels are defined for lines in the plot (which is done by the input `label=`), `plt.legend()` can be used to add a legend to the plot. \n",
    "\n",
    "Finally, to add a grid to the plot, `plt.grid()` can be used. \n",
    "\n",
    "More information on the line plot can be found at https://matplotlib.org/stable/api/_as_gen/matplotlib.pyplot.plot.html"
   ]
  },
  {
   "cell_type": "markdown",
   "id": "d1abc84a",
   "metadata": {},
   "source": [
    "### 5.3.2 Step plot"
   ]
  },
  {
   "cell_type": "markdown",
   "id": "8cbd8a37",
   "metadata": {},
   "source": [
    "A *step plot* is similar to a line plot, only now the `plt.step()` function is used.\n",
    "\n",
    "More information on the step plot can be found at https://matplotlib.org/stable/api/_as_gen/matplotlib.pyplot.step.html#matplotlib.pyplot.step"
   ]
  },
  {
   "cell_type": "code",
   "execution_count": null,
   "id": "a374a66f",
   "metadata": {},
   "outputs": [],
   "source": [
    "x = np.arange(0, 5, 0.2)\n",
    "y1 = np.sin(x)\n",
    "y2 = np.cos(x)\n",
    "\n",
    "fig, ax1 = plt.subplots()\n",
    "plt.step(x, y1, label='sin(x)')\n",
    "plt.step(x, y2, color='green', marker='o', linestyle='dashed',\n",
    "                linewidth=2, markersize=5, label='cos(x)')\n",
    "plt.xlabel(\"X-axis, e.g. Time [s]\")\n",
    "plt.ylabel(\"Y-axis, e.g. Distance [m]\")\n",
    "plt.title(\"Title for your plot\")\n",
    "plt.grid()\n",
    "plt.legend(title='Parameter where:');"
   ]
  },
  {
   "cell_type": "markdown",
   "id": "59cbeae6",
   "metadata": {},
   "source": [
    "### 5.3.3 Bar plot"
   ]
  },
  {
   "cell_type": "markdown",
   "id": "2be23e39",
   "metadata": {},
   "source": [
    "A bar plot is used to present categorical data, with bars of which the height represents the frequency of each category. To create a *bar plot*, the function `plt.bar` can be used. For the bar plot, there are different inputs compared to the line plot. An example:"
   ]
  },
  {
   "cell_type": "code",
   "execution_count": null,
   "id": "9ff6dfc6",
   "metadata": {},
   "outputs": [],
   "source": [
    "x = [\"Product 1\",\"Product 2\",\"Product 3\",\"Product 4\",\"Product 5\"]\n",
    "y = [5, 3, 5, 2, 9]\n",
    "\n",
    "fig, ax1 = plt.subplots()\n",
    "plt.bar(x, y, width=0.6, color='red')\n",
    "plt.xlabel(\"X-axis, e.g. Product\")\n",
    "plt.ylabel(\"Y-axis, e.g. Occurance [-]\")\n",
    "plt.title(\"Title for your plot\")\n",
    "plt.grid();"
   ]
  },
  {
   "cell_type": "markdown",
   "id": "86aa13c3",
   "metadata": {},
   "source": [
    "For each bar, the width (w.r.t the x-axis) can be defined by `width=`. Furthermore labeling the x- and y-axes are the same as for line plots, as well as other layout-options for the graph.\n",
    "\n",
    "More information on the bar plot can be found at https://matplotlib.org/stable/api/_as_gen/matplotlib.pyplot.bar.html#matplotlib.pyplot.bar"
   ]
  },
  {
   "cell_type": "markdown",
   "id": "30211af6",
   "metadata": {},
   "source": [
    "### 5.3.4 Histogram plot"
   ]
  },
  {
   "cell_type": "markdown",
   "id": "02e80559",
   "metadata": {},
   "source": [
    "With a histogram, one can visualize the distribution of a dataset. To create a histogram, the function `plt.hist` is used. An example:"
   ]
  },
  {
   "cell_type": "code",
   "execution_count": null,
   "id": "56efc14a",
   "metadata": {},
   "outputs": [],
   "source": [
    "mu, sigma = 100, 15\n",
    "x = mu + sigma * random.randn(10000)\n",
    "\n",
    "fig, ax1 = plt.subplots()\n",
    "plt.hist(x, bins=50, density=True, color='blue')\n",
    "plt.xlabel(\"X-axis, e.g. Time [hours]\")\n",
    "plt.ylabel(\"Y-axis, e.g. Probability [-]\")\n",
    "plt.title(\"Title for your plot\")\n",
    "plt.grid();"
   ]
  },
  {
   "cell_type": "markdown",
   "id": "71d605db",
   "metadata": {},
   "source": [
    "For this example, `x` contains data in which the numbers 1 to 6 occur in different amounts. This is visualized in the histogram using `plt.hist`, where the number of bins can be defined by `bins=` (if not defined, this will be 10 bins). The number of bins represents the number of bars that will be present in the plot. When the input `density=True` is used, the probability of each x-axis unit will be visualized, otherwise the occurence will be shown.\n",
    "\n",
    "More information on the histogram plot can be found at https://matplotlib.org/stable/api/_as_gen/matplotlib.pyplot.hist.html"
   ]
  }
 ],
 "metadata": {
  "kernelspec": {
   "display_name": "Python (pychEnv)",
   "language": "python",
   "name": "pychenv"
  },
  "language_info": {
   "codemirror_mode": {
    "name": "ipython",
    "version": 3
   },
   "file_extension": ".py",
   "mimetype": "text/x-python",
   "name": "python",
   "nbconvert_exporter": "python",
   "pygments_lexer": "ipython3",
   "version": "3.12.7"
  }
 },
 "nbformat": 4,
 "nbformat_minor": 5
}
